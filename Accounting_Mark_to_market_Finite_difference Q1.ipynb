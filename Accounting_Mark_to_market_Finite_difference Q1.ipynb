{
 "cells": [
  {
   "cell_type": "code",
   "execution_count": 19,
   "id": "18a13ce1",
   "metadata": {},
   "outputs": [
    {
     "name": "stdout",
     "output_type": "stream",
     "text": [
      "Enter the Face Value: 1000\n",
      "Enter the Price: 1054\n",
      "Enter the Number of Years: 10\n",
      "The YTM for this bond is: 4.342745861733204% for 1 coupon\n"
     ]
    }
   ],
   "source": [
    "#Question 1 Task 1A\n",
    "\n",
    "fv = input(\"Enter the Face Value: \")\n",
    "price = input(\"Enter the Price: \")\n",
    "n = input(\"Enter the Number of Years: \")\n",
    "coupon_payment = 0.05 * 1000\n",
    "\n",
    "fv = int (fv)\n",
    "price = int (price)\n",
    "n = int (n)\n",
    "\n",
    "def task1 (coupon_payment, fv, price, n):\n",
    "    ytm = ((coupon_payment + (fv-price)/ n)) / ((fv + price)/2)\n",
    "    return ytm\n",
    "\n",
    "print(\"The YTM for this bond is: \" + str(ytm*100) + \"% for 1 coupon\")"
   ]
  },
  {
   "cell_type": "code",
   "execution_count": 35,
   "id": "5342f96e",
   "metadata": {},
   "outputs": [
    {
     "name": "stdout",
     "output_type": "stream",
     "text": [
      "The YTM for this bond is: 4.342745861733204% for 1 coupon\n",
      "The Bond Price is: 1132.1536802280307\n",
      "The function result is: 78.15368022803068\n"
     ]
    }
   ],
   "source": [
    "#Question 1 Task 1B\n",
    "\n",
    "import math\n",
    "\n",
    "fv = 1000\n",
    "price = 1054\n",
    "n = 10\n",
    "coupon_payment = 0.05 * 1000\n",
    "\n",
    "ytm = ((coupon_payment + (fv-price)/ n)) / ((fv + price)/2)\n",
    "\n",
    "m = 1\n",
    "c = 0.06\n",
    "    \n",
    "bondPrice = ((fv*c/m*(1-(1+ytm/m)**(-m*n)))/(ytm/m)) + fv*(1+(ytm/m))**(-m*n)\n",
    "\n",
    "print(\"The YTM for this bond is: \" + str(ytm*100) + \"% for 1 coupon\")\n",
    "\n",
    "print (\"The Bond Price is: \" + str (bondPrice))\n",
    "\n",
    "def error (price, bondPrice):\n",
    "    function = math.sqrt((price - bondPrice)**2)\n",
    "    return function\n",
    "\n",
    "print (\"The function result is: \" + str(error(price, bondPrice)))"
   ]
  },
  {
   "cell_type": "code",
   "execution_count": 75,
   "id": "0c91e7b8",
   "metadata": {},
   "outputs": [
    {
     "data": {
      "image/png": "[encoded data removed]",
      "text/plain": [
       "<Figure size 432x288 with 1 Axes>"
      ]
     },
     "metadata": {
      "needs_background": "light"
     },
     "output_type": "display_data"
    },
    {
     "data": {
      "image/png": "[encoded data removed]",
      "text/plain": [
       "<Figure size 432x288 with 1 Axes>"
      ]
     },
     "metadata": {
      "needs_background": "light"
     },
     "output_type": "display_data"
    }
   ],
   "source": [
    "#Question 1 Task 2\n",
    "\n",
    "import matplotlib.pyplot as plt\n",
    "import numpy as np\n",
    "import pandas as pd\n",
    "\n",
    "fv = 1000\n",
    "price = 1054\n",
    "n = 25\n",
    "coupon_payment = 0.05 * 1000\n",
    "\n",
    "def task1 (coupon_payment, fv, price, n):\n",
    "    ytm = ((coupon_payment + (fv-price)/ n)) / ((fv + price)/2)\n",
    "    return ytm\n",
    "\n",
    "df = pd.DataFrame({\n",
    "      'x_axis': range(900,1111),\n",
    "      'y_axis': task1 (coupon_payment, fv, price, n)\n",
    "  })\n",
    "\n",
    "# plot\n",
    "plt.plot('x_axis', 'y_axis', data=df, linestyle='-', marker='o')\n",
    "plt.show()\n",
    "\n",
    "df2 = pd.DataFrame({\n",
    "      'x_axis': range(1,50),\n",
    "      'y_axis': task1 (coupon_payment, fv, price, n)\n",
    "  })\n",
    "\n",
    "# plot\n",
    "plt.plot('x_axis', 'y_axis', data=df2, linestyle=':', marker='*')\n",
    "plt.show()"
   ]
  },
  {
   "cell_type": "code",
   "execution_count": null,
   "id": "561b1179",
   "metadata": {},
   "outputs": [],
   "source": []
  }
 ],
 "metadata": {
  "kernelspec": {
   "display_name": "Python 3",
   "language": "python",
   "name": "python3"
  },
  "language_info": {
   "codemirror_mode": {
    "name": "ipython",
    "version": 3
   },
   "file_extension": ".py",
   "mimetype": "text/x-python",
   "name": "python",
   "nbconvert_exporter": "python",
   "pygments_lexer": "ipython3",
   "version": "3.8.8"
  }
 },
 "nbformat": 4,
 "nbformat_minor": 5
}
