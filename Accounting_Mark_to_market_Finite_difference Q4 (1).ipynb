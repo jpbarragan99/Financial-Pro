{
 "cells": [
  {
   "cell_type": "code",
   "execution_count": 52,
   "id": "c632b040",
   "metadata": {},
   "outputs": [
    {
     "name": "stdout",
     "output_type": "stream",
     "text": [
      "Put Price is:  3.32\n"
     ]
    }
   ],
   "source": [
    "#Question 4 Task 1.1\n",
    "\n",
    "import numpy as np\n",
    "from scipy.stats import norm\n",
    "\n",
    "rf = 0.05\n",
    "S0 = 15\n",
    "E = 18\n",
    "T = 2\n",
    "m = 4\n",
    "sigma = 0.3\n",
    "\n",
    "def european_put(rf, S0, E, T, sigma,m):\n",
    "    \"Calculate Black-Scholes price for a put\"\n",
    "    d1 = (np.log(S0/E) + (rf + sigma**2/2)*T)/(sigma*np.sqrt(T))\n",
    "    d2 = d1 - sigma*np.sqrt(T)\n",
    "    price = E*np.exp(-rf*T)*norm.cdf(-d2, 0, 1) - S0*norm.cdf(-d1,0,1)\n",
    "    return price\n",
    "\n",
    "\n",
    "print(\"Put Price is: \", round(european_put( rf, S0, E, T, sigma,m),3))  "
   ]
  },
  {
   "cell_type": "code",
   "execution_count": 84,
   "id": "82c12644",
   "metadata": {},
   "outputs": [
    {
     "data": {
      "text/plain": [
       "0.5403134381306781"
      ]
     },
     "execution_count": 84,
     "metadata": {},
     "output_type": "execute_result"
    }
   ],
   "source": [
    "#Question 4 Task 1.2\n",
    "\n",
    "from functools import wraps\n",
    "from time import time\n",
    "\n",
    "def timing(f):\n",
    "    @wraps(f)\n",
    "    def wrap(*args, **kw):\n",
    "        ts = time()\n",
    "        result = f(*args, **kw)\n",
    "        te = time()\n",
    "        print('func:%r args:[%r, %r] took: %2.4f sec' % \\\n",
    "          (f.__name__, args, kw, te-ts))\n",
    "        return result\n",
    "    return wrap\n",
    "\n",
    "# Initialise parameters\n",
    "\n",
    "S0 = 15      # initial stock price\n",
    "E = 18       # strike price\n",
    "T = 2         # time to maturity in years\n",
    "rf = 0.05      # annual risk-free rate\n",
    "m = 4         # number of time steps\n",
    "u = 1.1      # up-factor in binomial models\n",
    "d = 1/u       # ensure recombining tree\n",
    "opttype = 'P' # Option Type 'C' or 'P'\n",
    "\n",
    "def binomial_tree_slow(E,T,S0,rf,m,u,d,opttype='C'):\n",
    "    \n",
    "    #precompute constants\n",
    "    dt = T/m\n",
    "    q = (np.exp(rf*dt) - d) / (u-d)\n",
    "    disc = np.exp(-rf*dt)\n",
    "    \n",
    "    # initialise asset prices at maturity \n",
    "    S = np.zeros(m+1)\n",
    "    S[0] = S0*d**N\n",
    "    for j in range(1,m+1):\n",
    "        S[j] = S[j-1]*u/d\n",
    "    \n",
    "    # initialise option values at maturity\n",
    "    C = np.zeros(m+1)\n",
    "    for j in range(0,m+1):\n",
    "        C[j] = max(0, S[j]-E)\n",
    "        \n",
    "    # step backwards through tree\n",
    "    for i in np.arange(m,0,-1):\n",
    "        for j in range(0,i):\n",
    "            C[j] = disc * ( q*C[j+1] + (1-q)*C[j] )\n",
    "    \n",
    "    return C[0]\n",
    "\n",
    "binomial_tree_slow(E,T,S0,rf,N,u,d,opttype='P')"
   ]
  },
  {
   "cell_type": "code",
   "execution_count": 87,
   "id": "e6f993b5",
   "metadata": {},
   "outputs": [
    {
     "data": {
      "image/png": "[encoded data removed]",
      "text/plain": [
       "<Figure size 432x288 with 1 Axes>"
      ]
     },
     "metadata": {
      "needs_background": "light"
     },
     "output_type": "display_data"
    }
   ],
   "source": [
    "#Question 4 Task 1.3\n",
    "\n",
    "import matplotlib.pyplot as plt\n",
    "import numpy as np\n",
    "import pandas as pd\n",
    "\n",
    "df = pd.DataFrame({\n",
    "      'x_axis': range(m),\n",
    "      'y_axis': (round(european_put( rf, S0, E, T, sigma,m),3)-1)+range(m)\n",
    "  })\n",
    "\n",
    "# plot\n",
    "plt.plot('x_axis', 'y_axis', data=df, linestyle='-', marker='o')\n",
    "plt.show()"
   ]
  },
  {
   "cell_type": "code",
   "execution_count": 111,
   "id": "120079f4",
   "metadata": {},
   "outputs": [
    {
     "name": "stdout",
     "output_type": "stream",
     "text": [
      "Put Price is:  14.93\n",
      "Binomial Tree is:  9.64\n"
     ]
    },
    {
     "data": {
      "image/png": "[encoded data removed]",
      "text/plain": [
       "<Figure size 432x288 with 1 Axes>"
      ]
     },
     "metadata": {
      "needs_background": "light"
     },
     "output_type": "display_data"
    }
   ],
   "source": [
    "#Question 4 Task 2-rf\n",
    "\n",
    "from functools import wraps\n",
    "from time import time\n",
    "\n",
    "def timing(f):\n",
    "    @wraps(f)\n",
    "    def wrap(*args, **kw):\n",
    "        ts = time()\n",
    "        result = f(*args, **kw)\n",
    "        te = time()\n",
    "        print('func:%r args:[%r, %r] took: %2.4f sec' % \\\n",
    "          (f.__name__, args, kw, te-ts))\n",
    "        return result\n",
    "    return wrap\n",
    "\n",
    "# Initialise parameters\n",
    "\n",
    "S0 = 100      # initial stock price\n",
    "E = 100       # strike price\n",
    "T = 5       # time to maturity in years\n",
    "rf = 0.01     # annual risk-free rate\n",
    "m = 0.001         # number of time steps\n",
    "u = 1.1      # up-factor in binomial models\n",
    "d = 1/u       # ensure recombining tree\n",
    "opttype = 'P' # Option Type 'C' or 'P'\n",
    "sigma = 0.2\n",
    "\n",
    "\n",
    "def binomial_tree_slow(E,T,S0,rf,m,u,d,opttype='C'):\n",
    "    \n",
    "    #precompute constants\n",
    "    dt = T/m\n",
    "    q = (np.exp(rf*dt) - d) / (u-d)\n",
    "    disc = np.exp(-rf*dt)\n",
    "    \n",
    "    # initialise asset prices at maturity \n",
    "    S = np.zeros(m+1)\n",
    "    S[0] = S0*d**N\n",
    "    for j in range(1,m+1):\n",
    "        S[j] = S[j-1]*u/d\n",
    "    \n",
    "    # initialise option values at maturity\n",
    "    C = np.zeros(m+1)\n",
    "    for j in range(0,m+1):\n",
    "        C[j] = max(0, S[j]-E)\n",
    "        \n",
    "    # step backwards through tree\n",
    "    for i in np.arange(m,0,-1):\n",
    "        for j in range(0,i):\n",
    "            C[j] = disc * ( q*C[j+1] + (1-q)*C[j] )\n",
    "    \n",
    "    return C[0]\n",
    "\n",
    "binomial_tree_slow(E,T,S0,rf,N,u,d,opttype='P')\n",
    "\n",
    "\n",
    "def european_put(rf, S0, E, T, sigma,m):\n",
    "    \"Calculate Black-Scholes price for a put\"\n",
    "    d1 = (np.log(S0/E) + (rf + sigma**2/2)*T)/(sigma*np.sqrt(T))\n",
    "    d2 = d1 - sigma*np.sqrt(T)\n",
    "    price = E*np.exp(-rf*T)*norm.cdf(-d2, 0, 1) - S0*norm.cdf(-d1,0,1)\n",
    "    return price\n",
    "\n",
    "\n",
    "print(\"Put Price is: \", round(european_put( rf, S0, E, T, sigma,m),3)) \n",
    "print(\"Binomial Tree is: \", round(binomial_tree_slow(E,T,S0,rf,N,u,d,opttype='P'),3))\n",
    "\n",
    "\n",
    "# data\n",
    "df = pd.DataFrame({\n",
    "      'x_axis': range(-1,1),\n",
    "      'y_axis': (round(european_put( rf, S0, E, T, sigma,m),3))+range(-1,1)\n",
    "  })\n",
    "\n",
    "# plot\n",
    "plt.plot('x_axis', 'y_axis', data=df, linestyle='-', marker='o')\n",
    "plt.show()"
   ]
  },
  {
   "cell_type": "code",
   "execution_count": 113,
   "id": "761a881c",
   "metadata": {},
   "outputs": [
    {
     "name": "stdout",
     "output_type": "stream",
     "text": [
      "Put Price is:  0.006\n",
      "Binomial Tree is:  0.0\n"
     ]
    },
    {
     "data": {
      "image/png": "[encoded data removed]",
      "text/plain": [
       "<Figure size 432x288 with 1 Axes>"
      ]
     },
     "metadata": {
      "needs_background": "light"
     },
     "output_type": "display_data"
    }
   ],
   "source": [
    "#Question 4 Task 2-S0\n",
    "\n",
    "from functools import wraps\n",
    "from time import time\n",
    "\n",
    "def timing(f):\n",
    "    @wraps(f)\n",
    "    def wrap(*args, **kw):\n",
    "        ts = time()\n",
    "        result = f(*args, **kw)\n",
    "        te = time()\n",
    "        print('func:%r args:[%r, %r] took: %2.4f sec' % \\\n",
    "          (f.__name__, args, kw, te-ts))\n",
    "        return result\n",
    "    return wrap\n",
    "\n",
    "# Initialise parameters\n",
    "\n",
    "S0 = 50      # initial stock price\n",
    "E = 100       # strike price\n",
    "T = 5       # time to maturity in years\n",
    "rf = 0.4     # annual risk-free rate\n",
    "m = 1         # number of time steps\n",
    "u = 1.1      # up-factor in binomial models\n",
    "d = 1/u       # ensure recombining tree\n",
    "opttype = 'P' # Option Type 'C' or 'P'\n",
    "sigma = 0.2\n",
    "\n",
    "\n",
    "def binomial_tree_slow(E,T,S0,rf,m,u,d,opttype='C'):\n",
    "    \n",
    "    #precompute constants\n",
    "    dt = T/m\n",
    "    q = (np.exp(rf*dt) - d) / (u-d)\n",
    "    disc = np.exp(-rf*dt)\n",
    "    \n",
    "    # initialise asset prices at maturity \n",
    "    S = np.zeros(m+1)\n",
    "    S[0] = S0*d**N\n",
    "    for j in range(1,m+1):\n",
    "        S[j] = S[j-1]*u/d\n",
    "    \n",
    "    # initialise option values at maturity\n",
    "    C = np.zeros(m+1)\n",
    "    for j in range(0,m+1):\n",
    "        C[j] = max(0, S[j]-E)\n",
    "        \n",
    "    # step backwards through tree\n",
    "    for i in np.arange(m,0,-1):\n",
    "        for j in range(0,i):\n",
    "            C[j] = disc * ( q*C[j+1] + (1-q)*C[j] )\n",
    "    \n",
    "    return C[0]\n",
    "\n",
    "binomial_tree_slow(E,T,S0,rf,N,u,d,opttype='P')\n",
    "\n",
    "\n",
    "def european_put(rf, S0, E, T, sigma,m):\n",
    "    \"Calculate Black-Scholes price for a put\"\n",
    "    d1 = (np.log(S0/E) + (rf + sigma**2/2)*T)/(sigma*np.sqrt(T))\n",
    "    d2 = d1 - sigma*np.sqrt(T)\n",
    "    price = E*np.exp(-rf*T)*norm.cdf(-d2, 0, 1) - S0*norm.cdf(-d1,0,1)\n",
    "    return price\n",
    "\n",
    "\n",
    "print(\"Put Price is: \", round(european_put( rf, S0, E, T, sigma,m),3)) \n",
    "print(\"Binomial Tree is: \", round(binomial_tree_slow(E,T,S0,rf,N,u,d,opttype='P'),3))\n",
    "\n",
    "\n",
    "# data\n",
    "df = pd.DataFrame({\n",
    "      'x_axis': range(50,150),\n",
    "      'y_axis': (round(european_put( rf, S0, E, T, sigma,m),3))+range(50,150)\n",
    "  })\n",
    "\n",
    "# plot\n",
    "plt.plot('x_axis', 'y_axis', data=df, linestyle='-', marker='o')\n",
    "plt.show()"
   ]
  },
  {
   "cell_type": "code",
   "execution_count": 114,
   "id": "ed043a88",
   "metadata": {},
   "outputs": [
    {
     "name": "stdout",
     "output_type": "stream",
     "text": [
      "Put Price is:  0.0\n",
      "Binomial Tree is:  18.941\n"
     ]
    },
    {
     "data": {
      "image/png": "[encoded data removed]",
      "text/plain": [
       "<Figure size 432x288 with 1 Axes>"
      ]
     },
     "metadata": {
      "needs_background": "light"
     },
     "output_type": "display_data"
    }
   ],
   "source": [
    "#Question 4 Task 2-sigma\n",
    "\n",
    "from functools import wraps\n",
    "from time import time\n",
    "\n",
    "def timing(f):\n",
    "    @wraps(f)\n",
    "    def wrap(*args, **kw):\n",
    "        ts = time()\n",
    "        result = f(*args, **kw)\n",
    "        te = time()\n",
    "        print('func:%r args:[%r, %r] took: %2.4f sec' % \\\n",
    "          (f.__name__, args, kw, te-ts))\n",
    "        return result\n",
    "    return wrap\n",
    "\n",
    "# Initialise parameters\n",
    "\n",
    "S0 = 100      # initial stock price\n",
    "E = 100       # strike price\n",
    "T = 5       # time to maturity in years\n",
    "rf = 0.04     # annual risk-free rate\n",
    "m = 0.1         # number of time steps\n",
    "u = 1.1      # up-factor in binomial models\n",
    "d = 1/u       # ensure recombining tree\n",
    "opttype = 'P' # Option Type 'C' or 'P'\n",
    "sigma = 0.01\n",
    "\n",
    "\n",
    "def binomial_tree_slow(E,T,S0,rf,m,u,d,opttype='C'):\n",
    "    \n",
    "    #precompute constants\n",
    "    dt = T/m\n",
    "    q = (np.exp(rf*dt) - d) / (u-d)\n",
    "    disc = np.exp(-rf*dt)\n",
    "    \n",
    "    # initialise asset prices at maturity \n",
    "    S = np.zeros(m+1)\n",
    "    S[0] = S0*d**N\n",
    "    for j in range(1,m+1):\n",
    "        S[j] = S[j-1]*u/d\n",
    "    \n",
    "    # initialise option values at maturity\n",
    "    C = np.zeros(m+1)\n",
    "    for j in range(0,m+1):\n",
    "        C[j] = max(0, S[j]-E)\n",
    "        \n",
    "    # step backwards through tree\n",
    "    for i in np.arange(m,0,-1):\n",
    "        for j in range(0,i):\n",
    "            C[j] = disc * ( q*C[j+1] + (1-q)*C[j] )\n",
    "    \n",
    "    return C[0]\n",
    "\n",
    "binomial_tree_slow(E,T,S0,rf,N,u,d,opttype='P')\n",
    "\n",
    "\n",
    "def european_put(rf, S0, E, T, sigma,m):\n",
    "    \"Calculate Black-Scholes price for a put\"\n",
    "    d1 = (np.log(S0/E) + (rf + sigma**2/2)*T)/(sigma*np.sqrt(T))\n",
    "    d2 = d1 - sigma*np.sqrt(T)\n",
    "    price = E*np.exp(-rf*T)*norm.cdf(-d2, 0, 1) - S0*norm.cdf(-d1,0,1)\n",
    "    return price\n",
    "\n",
    "\n",
    "print(\"Put Price is: \", round(european_put( rf, S0, E, T, sigma,m),3)) \n",
    "print(\"Binomial Tree is: \", round(binomial_tree_slow(E,T,S0,rf,N,u,d,opttype='P'),3))\n",
    "\n",
    "\n",
    "# data\n",
    "df = pd.DataFrame({\n",
    "      'x_axis': range(-1,1),\n",
    "      'y_axis': (round(european_put( rf, S0, E, T, sigma,m),3))+range(-1,1)\n",
    "  })\n",
    "\n",
    "# plot\n",
    "plt.plot('x_axis', 'y_axis', data=df, linestyle='-', marker='o')\n",
    "plt.show()"
   ]
  },
  {
   "cell_type": "code",
   "execution_count": 115,
   "id": "af9713cc",
   "metadata": {},
   "outputs": [
    {
     "name": "stdout",
     "output_type": "stream",
     "text": [
      "Put Price is:  8.577\n",
      "Binomial Tree is:  18.941\n"
     ]
    },
    {
     "data": {
      "image/png": "[encoded data removed]",
      "text/plain": [
       "<Figure size 432x288 with 1 Axes>"
      ]
     },
     "metadata": {
      "needs_background": "light"
     },
     "output_type": "display_data"
    }
   ],
   "source": [
    "#Question 4 Task 2-M\n",
    "\n",
    "from functools import wraps\n",
    "from time import time\n",
    "\n",
    "def timing(f):\n",
    "    @wraps(f)\n",
    "    def wrap(*args, **kw):\n",
    "        ts = time()\n",
    "        result = f(*args, **kw)\n",
    "        te = time()\n",
    "        print('func:%r args:[%r, %r] took: %2.4f sec' % \\\n",
    "          (f.__name__, args, kw, te-ts))\n",
    "        return result\n",
    "    return wrap\n",
    "\n",
    "# Initialise parameters\n",
    "\n",
    "S0 = 100      # initial stock price\n",
    "E = 100       # strike price\n",
    "T = 5       # time to maturity in years\n",
    "rf = 0.04     # annual risk-free rate\n",
    "m = 10         # number of time steps\n",
    "u = 1.1      # up-factor in binomial models\n",
    "d = 1/u       # ensure recombining tree\n",
    "opttype = 'P' # Option Type 'C' or 'P'\n",
    "sigma = 0.20\n",
    "\n",
    "\n",
    "def binomial_tree_slow(E,T,S0,rf,m,u,d,opttype='C'):\n",
    "    \n",
    "    #precompute constants\n",
    "    dt = T/m\n",
    "    q = (np.exp(rf*dt) - d) / (u-d)\n",
    "    disc = np.exp(-rf*dt)\n",
    "    \n",
    "    # initialise asset prices at maturity \n",
    "    S = np.zeros(m+1)\n",
    "    S[0] = S0*d**N\n",
    "    for j in range(1,m+1):\n",
    "        S[j] = S[j-1]*u/d\n",
    "    \n",
    "    # initialise option values at maturity\n",
    "    C = np.zeros(m+1)\n",
    "    for j in range(0,m+1):\n",
    "        C[j] = max(0, S[j]-E)\n",
    "        \n",
    "    # step backwards through tree\n",
    "    for i in np.arange(m,0,-1):\n",
    "        for j in range(0,i):\n",
    "            C[j] = disc * ( q*C[j+1] + (1-q)*C[j] )\n",
    "    \n",
    "    return C[0]\n",
    "\n",
    "binomial_tree_slow(E,T,S0,rf,N,u,d,opttype='P')\n",
    "\n",
    "\n",
    "def european_put(rf, S0, E, T, sigma,m):\n",
    "    \"Calculate Black-Scholes price for a put\"\n",
    "    d1 = (np.log(S0/E) + (rf + sigma**2/2)*T)/(sigma*np.sqrt(T))\n",
    "    d2 = d1 - sigma*np.sqrt(T)\n",
    "    price = E*np.exp(-rf*T)*norm.cdf(-d2, 0, 1) - S0*norm.cdf(-d1,0,1)\n",
    "    return price\n",
    "\n",
    "\n",
    "print(\"Put Price is: \", round(european_put( rf, S0, E, T, sigma,m),3)) \n",
    "print(\"Binomial Tree is: \", round(binomial_tree_slow(E,T,S0,rf,N,u,d,opttype='P'),3))\n",
    "\n",
    "\n",
    "# data\n",
    "df = pd.DataFrame({\n",
    "      'x_axis': range(5,1000),\n",
    "      'y_axis': (round(european_put( rf, S0, E, T, sigma,m),3))+range(5,1000)\n",
    "  })\n",
    "\n",
    "# plot\n",
    "plt.plot('x_axis', 'y_axis', data=df, linestyle='-', marker='o')\n",
    "plt.show()"
   ]
  },
  {
   "cell_type": "code",
   "execution_count": 3,
   "id": "7be886c3",
   "metadata": {},
   "outputs": [
    {
     "name": "stdout",
     "output_type": "stream",
     "text": [
      "Put Price is:  1.839396\n"
     ]
    }
   ],
   "source": [
    "#Question 4 Task 3.2\n",
    "\n",
    "import numpy as np\n",
    "from scipy.stats import norm\n",
    "\n",
    "rf = 0.05\n",
    "S0 = 15\n",
    "E = 18\n",
    "T = 2\n",
    "sigma = 0.3\n",
    "\n",
    "def european_put(rf, S0, E, T, sigma):\n",
    "    \"Calculate Black-Scholes price for a put\"\n",
    "    d1 = (np.log(S0/E) + (rf + sigma**2/2)*T)/(sigma*np.sqrt(T))\n",
    "    d2 = d1 - sigma*np.sqrt(T)\n",
    "    price = S0*norm.cdf(-d2, 0, 1) - E*np.exp(-rf*T)*norm.cdf(-d1,0,1)\n",
    "    return price\n",
    "\n",
    "\n",
    "print(\"Put Price is: \", round(european_put( rf, S0, E, T, sigma),6))"
   ]
  }
 ],
 "metadata": {
  "kernelspec": {
   "display_name": "Python 3",
   "language": "python",
   "name": "python3"
  },
  "language_info": {
   "codemirror_mode": {
    "name": "ipython",
    "version": 3
   },
   "file_extension": ".py",
   "mimetype": "text/x-python",
   "name": "python",
   "nbconvert_exporter": "python",
   "pygments_lexer": "ipython3",
   "version": "3.8.8"
  }
 },
 "nbformat": 4,
 "nbformat_minor": 5
}
